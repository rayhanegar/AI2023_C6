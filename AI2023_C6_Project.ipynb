{
 "cells": [
  {
   "cell_type": "markdown",
   "metadata": {},
   "source": [
    "# AI2023_C6_Project: Distribusi Strategis Tangki Air\n",
    "Ketua: \n",
    "- Hugo Alfedo Putra (225150201111013)\n",
    "\n",
    "Anggota:\n",
    "- Farrel Rakha Dzakwan (NIM)\n",
    "- Kartika Madania (NIM)\n",
    "- Nafakhatul Fadhliyah (NIM)\n",
    "- Rayhan Egar Sadtya N. (225150201111014)"
   ]
  },
  {
   "cell_type": "markdown",
   "metadata": {},
   "source": [
    "## Project Description"
   ]
  },
  {
   "cell_type": "markdown",
   "metadata": {},
   "source": [
    "- Detailed proposal: <a href=\"https://drive.google.com/file/d/17-KTcC_7lHK3ccReEwo3SYMl73sKyIs8/view?usp=sharing\">Click Here (UB Account)</a>\n",
    "- Case example: <a href=\"https://drive.google.com/file/d/1cw2pzo-zphH3vdL3rC1ZDHoAic22058L/view?usp=sharing\">Click Here (UB Account)</a>"
   ]
  },
  {
   "cell_type": "markdown",
   "metadata": {},
   "source": [
    "## Dependencies"
   ]
  },
  {
   "cell_type": "code",
<<<<<<< Updated upstream
   "execution_count": 1,
=======
   "execution_count": 1014,
>>>>>>> Stashed changes
   "metadata": {},
   "outputs": [],
   "source": [
    "import numpy as np\n",
    "import pandas as pd\n",
    "import random\n",
    "import matplotlib.pyplot as plt"
   ]
  },
  {
   "cell_type": "markdown",
   "metadata": {},
   "source": [
    "## Class: Node\n",
    "Node mereperesentasikan sebuah desa, memiliki atribut seperti:\n",
    "- (str) name \n",
    "- (int[]) coordinate\n",
    "- (int) population\n",
    "- (object[]) neighbors"
   ]
  },
  {
   "cell_type": "code",
<<<<<<< Updated upstream
   "execution_count": 2,
=======
   "execution_count": 1015,
>>>>>>> Stashed changes
   "metadata": {},
   "outputs": [],
   "source": [
    "class Node:\n",
    "    \n",
    "    # initialization function\n",
    "    def __init__(self, name, coordinate_x, coordinate_y, population):\n",
    "        self.name = name\n",
    "        self.coordinate = np.array([coordinate_x, coordinate_y])\n",
    "        self.population = population\n",
    "        self.neighbors = []\n",
    "    \n",
    "    # Establishes bi-directional path\n",
    "    def add_neighbor(self, neighbor):\n",
    "        # The if-condition below guarantees no recursive connections\n",
    "        # i.e. a node can't be neighbors with itself\n",
    "        if self.name != neighbor.name:\n",
    "            sld = np.sqrt(np.power(neighbor.coordinate[0] - self.coordinate[0], 2) + np.power(neighbor.coordinate[1] - self.coordinate[1] ,2))\n",
<<<<<<< Updated upstream
    "            cost = random.choice([i for i in range(100)])\n",
=======
    "            cost = random.choice([i for i in range(1,self.get_choice_range())])\n",
>>>>>>> Stashed changes
    "            self.neighbors.append([neighbor, sld, cost])\n",
    "            neighbor.neighbors.append([self, sld, cost])\n",
    "    \n",
    "    # Get neighbors\n",
    "    def get_neighbor(self):\n",
    "        its_neighbors = []\n",
    "        for i in range(len(self.neighbors)):\n",
    "            its_neighbors.append(self.neighbors[i][0].name)\n",
    "        return its_neighbors\n",
    "    \n",
    "    def get_cost(self):\n",
    "        its_costs = []\n",
    "        for i in range(len(self.neighbors)):\n",
    "            its_costs.append(self.neighbors[i][2])\n",
    "        return its_costs\n",
    "    \n",
    "    def get_sld(self):\n",
    "        its_slds = []\n",
    "        for i in range(len(self.neighbors)):\n",
    "            its_slds.append(self.neighbors[i][1])\n",
    "        return its_slds\n",
    "\n",
    "    # Print node information\n",
    "    def print_info(self):\n",
    "        print(f\"Name: {self.name}\")\n",
    "        print(f\"Coordinate [X, Y]: {self.coordinate}\")\n",
    "        print(f\"Population: {self.population}\")\n",
    "        print(f\"Neighbors: {self.get_neighbor()}\")\n",
    "        print(f\"Cost: {self.get_cost()}\")\n",
    "        print(f\"SLD: {self.get_sld()}\")\n",
    "\n",
    "    # Quick debug purposes\n",
    "    def minimal_print(self):\n",
    "        print(f\"ID: {self.name} \\t -> {self.get_neighbor()}\")"
   ]
  },
  {
   "cell_type": "markdown",
   "metadata": {},
   "source": [
    "## Class: Environment"
   ]
  },
  {
   "cell_type": "code",
<<<<<<< Updated upstream
   "execution_count": 3,
=======
   "execution_count": 1016,
>>>>>>> Stashed changes
   "metadata": {},
   "outputs": [],
   "source": [
    "class Environment:\n",
    "    \n",
    "    # Initialization function\n",
    "    def __init__(self, name, area_size, node_number):\n",
    "        self.name = name\n",
    "        self.node_number = node_number\n",
    "        self.empty_node_avail = node_number # kind of redundant (read more below)\n",
    "        self.area_size = area_size\n",
    "        self.area = [[None for _ in range(area_size)] for _ in range(area_size)]\n",
    "\n",
<<<<<<< Updated upstream
    "        self.node_list = [] # Used to store generated nodes\n",
    "        # Note: making an array filled with None and then *appending* instead of *updating*\n",
    "        # the values doesn't make any sense because you'd have Nones in front of everything else\n",
    "        \n",
    "        self.node_score = [None for _ in range(node_number)] # Used to store f(n) values for generated nodes\n",
    "        \n",
    "        # Makes sure the origin node is registered in node_list and area after creation\n",
    "        new_node = Node(\"origin\", 0, 0, 0)\n",
    "        self.add_node(new_node)\n",
    "\n",
=======
    "        # Random generation needs name, area_size, node_number\n",
    "        if len(args) > 2 and isinstance(args[0], str):\n",
    "            self.name = args[0]\n",
    "            self.node_number = args[2]\n",
    "            self.empty_node_avail = args[2] # kind of redundant (read more below)\n",
    "            self.area_size = args[1]\n",
    "            self.area = [[None for _ in range(args[1])] for _ in range(args[1])]\n",
    "            self.truck_count = args[3] \n",
    "\n",
    "            self.node_list = [] # Used to store generated nodes\n",
    "            # Note: making an array filled with None and then *appending* instead of *updating*\n",
    "            # the values doesn't make any sense because you'd have Nones in front of everything else\n",
    "            \n",
    "            self.node_score = [None for _ in range(args[2])] # Used to store f(n) values for generated nodes\n",
    "\n",
    "        # Nodes generated from data will only need Node\n",
    "        if len(args) == 2 and isinstance(args[0], list):\n",
    "            self.nodes = args[0]\n",
    "            self.truck_count = args[1]\n",
    "            self.node_number = len(args[0])\n",
    "            self.node_list = [] \n",
    "            self.node_score = [None for _ in range(len(args[0]))]\n",
    "    \n",
>>>>>>> Stashed changes
    "    # Add node\n",
    "    def add_node(self, node):\n",
    "        self.area[node.coordinate[0]][node.coordinate[1]] = node\n",
    "        self.node_list.append(node)\n",
    "        self.empty_node_avail -= 1 # you have a while loop using \"remaining\" as a decreasing variable, I don't think this is useful\n",
    "    \n",
    "    # Populate area \n",
    "    def populate_area(self):\n",
    "        remaining = self.node_number\n",
    "        naming_counter = 0\n",
    "\n",
    "        # Generate randomly-placed nodes\n",
    "        while(remaining > 0):\n",
    "\n",
    "            # Randomize index\n",
    "            x_loc = np.random.randint(1, self.area_size)\n",
    "            y_loc = np.random.randint(1, self.area_size)\n",
    "\n",
    "            # If index empty, initialize node\n",
    "            if (self.area[x_loc][y_loc] is None):\n",
    "                # Creates data for new_node\n",
    "                node_name = str(self.name) + \"node\" + str(naming_counter) \n",
    "                naming_counter += 1\n",
    "                node_population = np.random.randint(50, 1000)\n",
    "\n",
    "                # Creates the new_node\n",
    "                new_node = Node(node_name, x_loc, y_loc, node_population)\n",
    "\n",
    "                # Adds the node using a function *you* have created before\n",
    "                self.add_node(new_node)\n",
    "\n",
    "                remaining -= 1\n",
    "\n",
    "        # Generate randomly-put edges (neighbors) between nodes\n",
    "        # Constraint: \n",
    "        #   1. Guaranteed edge from \"origin\" to at least one node\n",
    "        #   2. Every node is reachable\n",
    "\n",
    "        # choice is a list containing all possible integers from 0 to self.node_number\n",
    "        choice = [i for i in range(self.node_number)]\n",
    "\n",
    "        for i in range(len(self.node_list)-1):\n",
    "            # Makes sure there is a path from origin to the last node where\n",
    "            # it visits every other nodes on the way (satisfies all constraints)\n",
    "            self.node_list[i].add_neighbor(self.node_list[i+1])\n",
    "\n",
    "            # Connects one node with random neighbors if it passes a certain\n",
    "            # threshold (chance > k)\n",
    "            chance = np.random.random()\n",
    "            if chance > 0.69: # change this if you want\n",
    "                self.node_list[i].add_neighbor(self.node_list[random.choice(choice)])"
   ]
  },
  {
   "cell_type": "markdown",
   "metadata": {},
   "source": [
    "### Environment Use Case"
   ]
  },
  {
   "cell_type": "code",
<<<<<<< Updated upstream
   "execution_count": 4,
=======
   "execution_count": 1017,
>>>>>>> Stashed changes
   "metadata": {},
   "outputs": [
    {
     "name": "stdout",
     "output_type": "stream",
     "text": [
      "ID: origin \t -> ['testnode0']\n",
      "ID: testnode0 \t -> ['origin', 'testnode1', 'testnode11', 'testnode3']\n",
      "ID: testnode1 \t -> ['testnode0', 'testnode2']\n",
      "ID: testnode2 \t -> ['testnode1', 'testnode3', 'testnode8']\n",
      "ID: testnode3 \t -> ['testnode2', 'testnode4', 'testnode0']\n",
      "ID: testnode4 \t -> ['testnode3', 'testnode5']\n",
      "ID: testnode5 \t -> ['testnode4', 'testnode6']\n",
      "ID: testnode6 \t -> ['testnode5', 'testnode7', 'testnode8']\n",
      "ID: testnode7 \t -> ['testnode6', 'testnode8']\n",
      "ID: testnode8 \t -> ['testnode6', 'testnode7', 'testnode9', 'testnode2']\n",
      "ID: testnode9 \t -> ['testnode8', 'testnode10']\n",
      "ID: testnode10 \t -> ['testnode9', 'testnode11']\n",
      "ID: testnode11 \t -> ['testnode0', 'testnode10', 'testnode12']\n",
      "ID: testnode12 \t -> ['testnode11', 'testnode13']\n",
      "ID: testnode13 \t -> ['testnode12', 'testnode14']\n",
      "ID: testnode14 \t -> ['testnode13', 'testnode15']\n",
      "Name: testnode6\n",
      "Coordinate [X, Y]: [15 15]\n",
      "Population: 760\n",
      "Neighbors: ['testnode5', 'testnode7', 'testnode8']\n",
      "Cost: [96, 64, 47]\n",
      "SLD: [13.038404810405298, 13.341664064126334, 6.4031242374328485]\n"
     ]
    }
   ],
   "source": [
<<<<<<< Updated upstream
    "env = Environment(\"test\", 16, 16)\n",
    "env.populate_area() # maybe initiate this in __init__ instead?\n",
    "for i in range(env.node_number):\n",
    "    env.node_list[i].minimal_print()\n",
    "env.node_list[7].print_info()"
=======
    "env = Environment(\"test\", 16, 16, 1)\n",
    "env.test_case()\n",
    "for i in range(env.node_number):\n",
    "    env.node_list[i].minimal_print()"
   ]
  },
  {
   "cell_type": "markdown",
   "metadata": {},
   "source": [
    "### Referensi Geolokasi Database\n",
    "\n",
    "Teks di bawah ini sekadar mencontohkan cara kerja kelompok kami:\n",
    "\n",
    "Didapatkan sebuah batasan berupa koordinat-koordinat dari website https://boundingbox.klokantech.com sebagai berikut:\n",
    "- batasan Barat: `112.471417`\n",
    "- batasan Selatan: `-8.048836`\n",
    "- batasan Timur: `112.745595`\n",
    "- batasan Utara: `-7.80712`\n",
    "\n",
    "dengan visualisasi:\n",
    "<br>\n",
    "<img src=\"./visualisasi_1.png\" width=\"800\">\n",
    "\n",
    "dan juga database `ref_db.csv` yang akan digunakan untuk menentukan desa-desa mana saja yang berada di dalam batasan-batasan tersebut.\n"
   ]
  },
  {
   "cell_type": "markdown",
   "metadata": {},
   "source": [
    "## Tahapan Kerja"
   ]
  },
  {
   "cell_type": "markdown",
   "metadata": {},
   "source": [
    "1. Deklarasi batasan"
   ]
  },
  {
   "cell_type": "code",
   "execution_count": 1018,
   "metadata": {},
   "outputs": [],
   "source": [
    "batasan = [102.197763,-1.929685,102.395665,-1.791279]\n",
    "# dengan urutan barat, selatan, timur, utara"
   ]
  },
  {
   "cell_type": "markdown",
   "metadata": {},
   "source": [
    "2. Mengambil data dari .csv untuk melakukan referensi geolokasi"
   ]
  },
  {
   "cell_type": "code",
   "execution_count": 1019,
   "metadata": {},
   "outputs": [
    {
     "data": {
      "text/html": [
       "<div>\n",
       "<style scoped>\n",
       "    .dataframe tbody tr th:only-of-type {\n",
       "        vertical-align: middle;\n",
       "    }\n",
       "\n",
       "    .dataframe tbody tr th {\n",
       "        vertical-align: top;\n",
       "    }\n",
       "\n",
       "    .dataframe thead th {\n",
       "        text-align: right;\n",
       "    }\n",
       "</style>\n",
       "<table border=\"1\" class=\"dataframe\">\n",
       "  <thead>\n",
       "    <tr style=\"text-align: right;\">\n",
       "      <th></th>\n",
       "      <th>name</th>\n",
       "      <th>lat</th>\n",
       "      <th>lng</th>\n",
       "      <th>pop</th>\n",
       "    </tr>\n",
       "  </thead>\n",
       "  <tbody>\n",
       "    <tr>\n",
       "      <th>0</th>\n",
       "      <td>LATIUNG</td>\n",
       "      <td>2.357417</td>\n",
       "      <td>96.452420</td>\n",
       "      <td>779</td>\n",
       "    </tr>\n",
       "    <tr>\n",
       "      <th>1</th>\n",
       "      <td>LABUHAN BAJAU</td>\n",
       "      <td>2.391348</td>\n",
       "      <td>96.479117</td>\n",
       "      <td>88</td>\n",
       "    </tr>\n",
       "    <tr>\n",
       "      <th>2</th>\n",
       "      <td>SUAK LAMATAN</td>\n",
       "      <td>2.353943</td>\n",
       "      <td>96.364809</td>\n",
       "      <td>2205</td>\n",
       "    </tr>\n",
       "    <tr>\n",
       "      <th>3</th>\n",
       "      <td>ANA AO</td>\n",
       "      <td>2.439100</td>\n",
       "      <td>96.450882</td>\n",
       "      <td>1890</td>\n",
       "    </tr>\n",
       "    <tr>\n",
       "      <th>4</th>\n",
       "      <td>LATALING</td>\n",
       "      <td>2.458705</td>\n",
       "      <td>96.455400</td>\n",
       "      <td>1577</td>\n",
       "    </tr>\n",
       "  </tbody>\n",
       "</table>\n",
       "</div>"
      ],
      "text/plain": [
       "            name       lat        lng   pop\n",
       "0        LATIUNG  2.357417  96.452420   779\n",
       "1  LABUHAN BAJAU  2.391348  96.479117    88\n",
       "2   SUAK LAMATAN  2.353943  96.364809  2205\n",
       "3         ANA AO  2.439100  96.450882  1890\n",
       "4       LATALING  2.458705  96.455400  1577"
      ]
     },
     "execution_count": 1019,
     "metadata": {},
     "output_type": "execute_result"
    }
   ],
   "source": [
    "ref_db = pd.read_csv('ref_db.csv')\n",
    "ref_db.head()"
   ]
  },
  {
   "cell_type": "markdown",
   "metadata": {},
   "source": [
    "3. Membuat fungsi untuk mencari batasan desa"
   ]
  },
  {
   "cell_type": "code",
   "execution_count": 1020,
   "metadata": {},
   "outputs": [],
   "source": [
    "def cari_desa(batasan):\n",
    "    kumpulan_desa = []\n",
    "    for i in range(len(ref_db)):\n",
    "        if ref_db['lat'][i] >= batasan[1] and ref_db['lat'][i] <= batasan[3] and ref_db['lng'][i] >= batasan[0] and ref_db['lng'][i] <= batasan[2] and ref_db['lat'][i] != 0 and ref_db['lng'][i] != 0:\n",
    "            new_node = Node(ref_db['name'][i],ref_db['lat'][i],ref_db['lng'][i],ref_db['pop'][i])\n",
    "            kumpulan_desa.append(new_node)\n",
    "        else: continue\n",
    "    return kumpulan_desa"
   ]
  },
  {
   "cell_type": "markdown",
   "metadata": {},
   "source": [
    "4. Melakukan generasi environment"
   ]
  },
  {
   "cell_type": "code",
   "execution_count": 1021,
   "metadata": {},
   "outputs": [
    {
     "data": {
      "image/png": "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",
      "text/plain": [
       "<Figure size 640x480 with 1 Axes>"
      ]
     },
     "metadata": {},
     "output_type": "display_data"
    }
   ],
   "source": [
    "env_on_data = Environment(cari_desa(batasan), 2)\n",
    "env_on_data.populate_from_data()\n",
    "# NEVER print on cells where you declare or instantiate a class; it will double up"
   ]
  },
  {
   "cell_type": "code",
   "execution_count": 1022,
   "metadata": {},
   "outputs": [
    {
     "name": "stdout",
     "output_type": "stream",
     "text": [
      "ID: SUMBER AGUNG \t -> ['SIDO HARJO', 'SUKO REJO']\n",
      "ID: KANDANG \t -> ['BELURAN PANJANG', 'KOTO BARU']\n",
      "ID: BELURAN PANJANG \t -> ['KANDANG', 'KAPUK', 'SIDO RUKUN', 'KOTO BARU']\n",
      "ID: KAPUK \t -> ['BELURAN PANJANG', 'MEDAN BARU']\n",
      "ID: MEDAN BARU \t -> ['KAPUK', 'KOTO BARU']\n",
      "ID: KOTO BARU \t -> ['KANDANG', 'MEDAN BARU', 'SIDO LEGO', 'BELURAN PANJANG']\n",
      "ID: SIDO LEGO \t -> ['KOTO BARU', 'MENSANGO']\n",
      "ID: MENSANGO \t -> ['SIDO LEGO', 'SIDO HARJO']\n",
      "ID: SIDO HARJO \t -> ['MENSANGO', 'SUMBER AGUNG']\n",
      "ID: SUKO REJO \t -> ['SUMBER AGUNG', 'SIDO RUKUN']\n",
      "ID: SIDO RUKUN \t -> ['BELURAN PANJANG', 'SUKO REJO', 'TEGAL REJO']\n",
      "ID: TEGAL REJO \t -> ['SIDO RUKUN']\n",
      "Node origin:\n",
      "ID: SUMBER AGUNG \t -> ['SIDO HARJO', 'SUKO REJO']\n"
     ]
    }
   ],
   "source": [
    "for i in range(env_on_data.node_number):\n",
    "    env_on_data.node_list[i].minimal_print()\n",
    "print(\"Node origin:\")\n",
    "env_on_data.node_list[0].minimal_print()"
>>>>>>> Stashed changes
   ]
  },
  {
   "cell_type": "markdown",
   "metadata": {},
   "source": [
    "## Environment Evaluation\n",
    "\n",
    "A* Search, expand minimum $f(n) = g(n) + h(n)$ node first.\n",
    "\n",
    "$$ g(n) = cost(root, n) + \\frac{\\sum _{i = 0}^n cost(i, n)}{n-1} $$\n",
    "\n",
    "$$ h(n) = \\frac{\\sum _{i=0}^n h_{SLD}(i)}{n-1} + \\frac{\\sum _{i = 0}^{n-1}\\text{population}(h) * d_{SLD}(i, k)}{\\sum _{i=0}^n \\text{population}(h)} $$\n",
    "\n",
    "$$ f(n) = cost(root, n) + \\frac{\\sum _{i = 0}^n cost(i, n)}{n-1} + \\frac{\\sum _{i=0}^n h_{SLD}(i)}{n-1} + \\frac{\\sum _{i = 0}^{n-1}\\text{population}(h) * d_{SLD}(i, k)}{\\sum _{i=0}^n \\text{population}(h)} $$"
   ]
  },
  {
   "cell_type": "code",
<<<<<<< Updated upstream
   "execution_count": null,
   "metadata": {},
   "outputs": [],
   "source": []
=======
   "execution_count": 1023,
   "metadata": {},
   "outputs": [],
   "source": [
    "def find_index(array, target_node):\n",
    "    try:\n",
    "        index = array.index(target_node)\n",
    "        return index\n",
    "    except ValueError:\n",
    "        return None\n",
    "\n",
    "def find_cost(graph, start_node):\n",
    "    distances = {node: float('infinity') for node in graph}\n",
    "    distances[start_node] = 0\n",
    "    previous_nodes = {node: None for node in graph}\n",
    "\n",
    "    priority_queue = [(0, start_node)]\n",
    "\n",
    "    while priority_queue:\n",
    "        current_distance, current_node = heapq.heappop(priority_queue)\n",
    "\n",
    "        if current_distance > distances[current_node]:\n",
    "            continue\n",
    "\n",
    "        for properties in graph[find_index(graph, current_node)].neighbors:\n",
    "            # neighbor = properties[0]\n",
    "            # weight = properties[2]\n",
    "            distance = current_distance + properties[2]\n",
    "            if distance < distances[properties[0]]:\n",
    "                distances[properties[0]] = distance\n",
    "                previous_nodes[properties[0]] = current_node\n",
    "                heapq.heappush(priority_queue, (distance, properties[0]))\n",
    "\n",
    "    return distances, previous_nodes\n",
    "\n",
    "def gn(environment, unvisited):\n",
    "    iter = environment.node_number\n",
    "    graph = environment.node_list\n",
    "    origin = graph[0] # Node at index 0 is always the origin node\n",
    "    trucks = environment.truck_count\n",
    "    gn_values = []\n",
    "\n",
    "    # Discovers the graph from the origin to calculate distance from origin to where\n",
    "    # the water truck is going to be placed\n",
    "    o_dist, o_prev = find_cost(graph, origin)\n",
    "\n",
    "    costs = []; final_costs = []\n",
    "\n",
    "    if len(unvisited) == iter-1:\n",
    "        for i in range(1, iter): # We don't need to do calculations on the origin node\n",
    "            # Define current node\n",
    "            current_node = graph[i]\n",
    "\n",
    "            # Find the first term\n",
    "            term_1 = o_dist[current_node]\n",
    "            term_1 /= iter\n",
    "\n",
    "            # Find the second term\n",
    "            # Discovers the graph from where the water truck is placed\n",
    "            term_2 = 0\n",
    "            dist, prev = find_cost(graph, current_node)\n",
    "            for j in range(1, iter):\n",
    "                # Doesn't calculate the distance to itself\n",
    "                if i != j and dist[graph[j]] < float('inf'): \n",
    "                    term_2 += dist[graph[j]]\n",
    "                else: \n",
    "                    continue \n",
    "            term_2 /= (iter - 1)\n",
    "            \n",
    "            # Add them together\n",
    "            gn_term = term_1 + term_2\n",
    "            gn_values.append(gn_term)\n",
    "            gn_values.append(-1)\n",
    "\n",
    "            # Find minimum\n",
    "            # if gn_term < mini:\n",
    "            #     mini = gn_term\n",
    "            #     idx = unvisited[i-1]\n",
    "            \n",
    "        print(\"first truck\")\n",
    "    \n",
    "    else:\n",
    "        # This is if there are more than 1 truck that is going to be deployed\n",
    "        # Check all the other nodes except for the node that is chosen before\n",
    "        term_1_list = []\n",
    "        for i in range(1, iter):\n",
    "            if i in unvisited:    \n",
    "                current_node = graph[i]\n",
    "\n",
    "                # Find the first term\n",
    "                term_1 = o_dist[current_node]\n",
    "                term_1 /= iter\n",
    "\n",
    "                term_1_list.append(term_1)\n",
    "\n",
    "        # Find the second term\n",
    "        # Discovers the graph from where the water truck is placed\n",
    "        term_2_list = []\n",
    "        for i in range(2,iter+1):\n",
    "            if i not in unvisited:\n",
    "                dist_l, prev_l = find_cost(graph, graph[hill_climb[l]])\n",
    "                # Remove itself and the other nodes that already have a truck\n",
    "                final_dist = [dist_l.pop(graph[i]) for i in unvisited]\n",
    "                final_dist.pop(origin) # removes the origin node\n",
    "                costs.extend(final_dist.values())\n",
    "\n",
    "        # Find all candidates\n",
    "        for j in range(2, iter+1):\n",
    "            if j in unvisited:\n",
    "                final_costs.extend(costs)\n",
    "                \n",
    "                dist_k, prev_k = find_cost(graph, graph[j])\n",
    "                # Remove the other nodes that already have a truck\n",
    "                final_dist = [dist_k.pop(graph[i]) for i in unvisited]\n",
    "                final_dist.pop(graph[j]) # removes itself\n",
    "                final_dist.pop(origin) # removes the origin node\n",
    "                final_costs.extend(final_dist.values())\n",
    "                # Removes itself in the dist_l list that was extended into costs\n",
    "                final_costs.pop(j-1)\n",
    "\n",
    "                # Reshape final_costs to (k,iter-1)\n",
    "                # print(len(final_costs),final_costs)\n",
    "                # print(len(final_costs),iter-2-k,len(final_costs)/(iter-2-k))\n",
    "                cost_matrix = np.array(final_costs).reshape(k+1,iter-2-k)\n",
    "                # print(cost_matrix)\n",
    "                min_costs = np.min(cost_matrix, axis=0)\n",
    "                # print(min_costs)\n",
    "\n",
    "                term_2_list.append(sum(min_costs)/(iter-k+1))\n",
    "        \n",
    "                final_costs.clear()\n",
    "\n",
    "        print(term_1_list)\n",
    "        print(term_2_list)\n",
    "\n",
    "        for i in range(len(term_1_list)):\n",
    "            gn_term = term_1_list[i] + term_2_list[i]\n",
    "            gn_values.append(gn_term)\n",
    "            gn_values.append(-1)\n",
    "\n",
    "            # Find minimum\n",
    "            # if gn_term < mini:\n",
    "            #     mini = gn_term\n",
    "            #     idx = unvisited[i]\n",
    "        \n",
    "        # print(idx)\n",
    "        # hill_climb[k] = idx\n",
    "        # unvisited.remove(idx)\n",
    "        # gn_values.append(-1) # this acts like a delimiter\n",
    "        # print(hill_climb)\n",
    "        # print(unvisited)\n",
    "\n",
    "    return gn_values"
   ]
  },
  {
   "cell_type": "markdown",
   "metadata": {},
   "source": [
    "### Fungsi $h(n)$"
   ]
  },
  {
   "cell_type": "code",
   "execution_count": 1024,
   "metadata": {},
   "outputs": [],
   "source": [
    "def hn(environment):\n",
    "    iter = environment.node_number\n",
    "    graph = environment.node_list\n",
    "    origin = graph[0] # Node at index 0 is always the origin node\n",
    "    trucks = environment.truck_count\n",
    "    hn_values = []\n",
    "    \n",
    "    # Get each node's population\n",
    "    pops = []\n",
    "    for i in range(0, iter):\n",
    "        pops.append(graph[i].population)\n",
    "    \n",
    "    idx = 0\n",
    "    unvisited = [i for i in range(2, iter+1)]\n",
    "    costs = []; final_costs = []\n",
    "    for k in range(trucks):\n",
    "        if k==0:\n",
    "            mini = float('inf')\n",
    "            for i in range(1, iter):\n",
    "                term_1 = 0\n",
    "                term_2 = 0\n",
    "                for j in range(iter - 1):\n",
    "                    if i != j: \n",
    "                        sld = np.sqrt((graph[j].coordinate[0] - graph[i].coordinate[0]) ** 2 + (graph[j].coordinate[1] - graph[i].coordinate[1]) ** 2)\n",
    "                        # Calculating first term\n",
    "                        term_1 += sld\n",
    "                        # Calculating second term because second term needs the result from the first term\n",
    "                        term_2 += graph[j].population * sld\n",
    "                    else: continue\n",
    "                term_1 /= (iter - 1)\n",
    "                term_2 /= pops[i]\n",
    "                \n",
    "                hn_term = term_1 + term_2\n",
    "                hn_values.append(hn_term)\n",
    "\n",
    "                # Find minimum\n",
    "                if hn_term < mini:\n",
    "                    mini = hn_term\n",
    "                    idx = unvisited[i-1]\n",
    "        else:\n",
    "            mini = float('inf')\n",
    "            \n",
    "            \n",
    "\n",
    "            for i in range(1, iter):\n",
    "                for j in range(1, iter):\n",
    "                    if i in unvisited and j in unvisited and i!=j:\n",
    "                        sld = np.sqrt((graph[j].coordinate[0] - graph[i].coordinate[0]) ** 2 + (graph[j].coordinate[1] - graph[i].coordinate[1]) ** 2)\n",
    "                        # Calculating first term\n",
    "                        term_1 += sld\n",
    "                        # Calculating second term because second term needs the result from the first term\n",
    "                        term_2 += graph[j].population * sld\n",
    "            # for i in range(1, iter):\n",
    "            #     if i in unvisited:\n",
    "            #         term_1 = 0\n",
    "            #         term_2 = 0\n",
    "            #         for j in range(iter - 1):\n",
    "            #             if i != j and j in unvisited: \n",
    "            #                 sld = np.sqrt((graph[j].coordinate[0] - graph[i].coordinate[0]) ** 2 + (graph[j].coordinate[1] - graph[i].coordinate[1]) ** 2)\n",
    "            #                 # Calculating first term\n",
    "            #                 term_1 += sld\n",
    "            #                 # Calculating second term because second term needs the result from the first term\n",
    "            #                 term_2 += graph[j].population * sld\n",
    "            #             else: continue\n",
    "                        term_1 /= (iter - 1)\n",
    "                        term_2 /= pops[i]\n",
    "                        \n",
    "                        hn_term = term_1 + term_2\n",
    "                        hn_values.append(hn_term)\n",
    "\n",
    "                        # Find minimum\n",
    "                        if hn_term < min:\n",
    "                            min = hn_term\n",
    "                            idx = unvisited[i-1]\n",
    "        \n",
    "        print(idx)\n",
    "        print(unvisited)\n",
    "        unvisited.remove(idx)\n",
    "        hn_values.append(-1) # this acts as a delimiter\n",
    "    \n",
    "    return hn_values"
   ]
  },
  {
   "cell_type": "markdown",
   "metadata": {},
   "source": [
    "### Mencari $f(n)$ minimum"
   ]
  },
  {
   "cell_type": "code",
   "execution_count": 1025,
   "metadata": {},
   "outputs": [],
   "source": [
    "def fn(environment):\n",
    "    fn_values = []\n",
    "    iter = environment.node_number\n",
    "    trucks = environment.truck_count\n",
    "    min = float('inf'); idx = 0\n",
    "\n",
    "    hill_climb = [-1 for _ in range(trucks)]\n",
    "    unvisited = [i for i in range(2, iter+1)]\n",
    "\n",
    "    for i in range(trucks):\n",
    "        gn_values = gn(environment, unvisited)\n",
    "        print(\"---\")\n",
    "        print(len(gn_values), gn_values)\n",
    "        hn_values = hn(environment, unvisited)\n",
    "        print(len(hn_values), hn_values)\n",
    "\n",
    "        for i in range(len(hn_values)):\n",
    "            fn = gn_values[i] + hn_values[i]\n",
    "            fn_values.append(fn)\n",
    "            if fn < min:\n",
    "                min = fn\n",
    "                idx = unvisited[i]\n",
    "        \n",
    "        hill_climb[i] = idx\n",
    "        unvisited.remove(idx)\n",
    "\n",
    "    return [min, idx], fn_values"
   ]
  },
  {
   "cell_type": "markdown",
   "metadata": {},
   "source": [
    "### Eksekusi"
   ]
  },
  {
   "cell_type": "code",
   "execution_count": 1026,
   "metadata": {},
   "outputs": [
    {
     "ename": "TypeError",
     "evalue": "unsupported operand type(s) for +: 'builtin_function_or_method' and 'int'",
     "output_type": "error",
     "traceback": [
      "\u001b[1;31m---------------------------------------------------------------------------\u001b[0m",
      "\u001b[1;31mTypeError\u001b[0m                                 Traceback (most recent call last)",
      "\u001b[1;32md:\\100 KULIAH\\PYTHON\\kb\\projek-akhir\\AI2023_C6\\AI2023_C6_Project.ipynb Cell 31\u001b[0m line \u001b[0;36m1\n\u001b[1;32m----> <a href='vscode-notebook-cell:/d%3A/100%20KULIAH/PYTHON/kb/projek-akhir/AI2023_C6/AI2023_C6_Project.ipynb#X42sZmlsZQ%3D%3D?line=0'>1</a>\u001b[0m \u001b[39mmin\u001b[39m, vals \u001b[39m=\u001b[39m fn(env_on_data)\n\u001b[0;32m      <a href='vscode-notebook-cell:/d%3A/100%20KULIAH/PYTHON/kb/projek-akhir/AI2023_C6/AI2023_C6_Project.ipynb#X42sZmlsZQ%3D%3D?line=1'>2</a>\u001b[0m \u001b[39mprint\u001b[39m(\u001b[39m\"\u001b[39m\u001b[39m---\u001b[39m\u001b[39m\"\u001b[39m)\n\u001b[0;32m      <a href='vscode-notebook-cell:/d%3A/100%20KULIAH/PYTHON/kb/projek-akhir/AI2023_C6/AI2023_C6_Project.ipynb#X42sZmlsZQ%3D%3D?line=2'>3</a>\u001b[0m \u001b[39mprint\u001b[39m(vals)\n",
      "\u001b[1;32md:\\100 KULIAH\\PYTHON\\kb\\projek-akhir\\AI2023_C6\\AI2023_C6_Project.ipynb Cell 31\u001b[0m line \u001b[0;36m7\n\u001b[0;32m      <a href='vscode-notebook-cell:/d%3A/100%20KULIAH/PYTHON/kb/projek-akhir/AI2023_C6/AI2023_C6_Project.ipynb#X42sZmlsZQ%3D%3D?line=3'>4</a>\u001b[0m \u001b[39mmin\u001b[39m \u001b[39m=\u001b[39m \u001b[39mfloat\u001b[39m(\u001b[39m'\u001b[39m\u001b[39minf\u001b[39m\u001b[39m'\u001b[39m); idx \u001b[39m=\u001b[39m \u001b[39m0\u001b[39m\n\u001b[0;32m      <a href='vscode-notebook-cell:/d%3A/100%20KULIAH/PYTHON/kb/projek-akhir/AI2023_C6/AI2023_C6_Project.ipynb#X42sZmlsZQ%3D%3D?line=5'>6</a>\u001b[0m hill_climb \u001b[39m=\u001b[39m [\u001b[39m-\u001b[39m\u001b[39m1\u001b[39m \u001b[39mfor\u001b[39;00m _ \u001b[39min\u001b[39;00m \u001b[39mrange\u001b[39m(trucks)]\n\u001b[1;32m----> <a href='vscode-notebook-cell:/d%3A/100%20KULIAH/PYTHON/kb/projek-akhir/AI2023_C6/AI2023_C6_Project.ipynb#X42sZmlsZQ%3D%3D?line=6'>7</a>\u001b[0m unvisited \u001b[39m=\u001b[39m [i \u001b[39mfor\u001b[39;00m i \u001b[39min\u001b[39;00m \u001b[39mrange\u001b[39m(\u001b[39m2\u001b[39m, \u001b[39miter\u001b[39;49m\u001b[39m+\u001b[39;49m\u001b[39m1\u001b[39;49m)]\n\u001b[0;32m      <a href='vscode-notebook-cell:/d%3A/100%20KULIAH/PYTHON/kb/projek-akhir/AI2023_C6/AI2023_C6_Project.ipynb#X42sZmlsZQ%3D%3D?line=8'>9</a>\u001b[0m \u001b[39mfor\u001b[39;00m i \u001b[39min\u001b[39;00m \u001b[39mrange\u001b[39m(trucks):\n\u001b[0;32m     <a href='vscode-notebook-cell:/d%3A/100%20KULIAH/PYTHON/kb/projek-akhir/AI2023_C6/AI2023_C6_Project.ipynb#X42sZmlsZQ%3D%3D?line=9'>10</a>\u001b[0m     gn_values \u001b[39m=\u001b[39m gn(environment, unvisited)\n",
      "\u001b[1;31mTypeError\u001b[0m: unsupported operand type(s) for +: 'builtin_function_or_method' and 'int'"
     ]
    }
   ],
   "source": [
    "min, vals = fn(env_on_data)\n",
    "print(\"---\")\n",
    "print(vals)\n",
    "print(f'Penempatan truk tangki air di {env_on_data.node_list[min[1]].name} paling efisien dengan nilai f(n) = {min[0]}')"
   ]
>>>>>>> Stashed changes
  }
 ],
 "metadata": {
  "kernelspec": {
   "display_name": "myenv",
   "language": "python",
   "name": "python3"
  },
  "language_info": {
   "codemirror_mode": {
    "name": "ipython",
    "version": 3
   },
   "file_extension": ".py",
   "mimetype": "text/x-python",
   "name": "python",
   "nbconvert_exporter": "python",
   "pygments_lexer": "ipython3",
   "version": "3.10.9"
  }
 },
 "nbformat": 4,
 "nbformat_minor": 2
}
