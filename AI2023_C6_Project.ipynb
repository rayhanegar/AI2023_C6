{
 "cells": [
  {
   "cell_type": "markdown",
   "metadata": {},
   "source": [
    "# AI2023_C6_Project: Distribusi Strategis Tangki Air\n",
    "Ketua: \n",
    "- Hugo Alfedo Putra (225150201111013)\n",
    "\n",
    "Anggota:\n",
    "- Farrel Rakha Dzakwan (NIM)\n",
    "- Kartika Madania (NIM)\n",
    "- Nafakhatul Fadhliyah (NIM)\n",
    "- Rayhan Egar Sadtya N. (225150201111014)"
   ]
  },
  {
   "cell_type": "markdown",
   "metadata": {},
   "source": [
    "## Project Description"
   ]
  },
  {
   "cell_type": "markdown",
   "metadata": {},
   "source": [
    "- Detailed proposal: <a href=\"https://drive.google.com/file/d/17-KTcC_7lHK3ccReEwo3SYMl73sKyIs8/view?usp=sharing\">Click Here (UB Account)</a>\n",
    "- Case example: <a href=\"https://drive.google.com/file/d/1cw2pzo-zphH3vdL3rC1ZDHoAic22058L/view?usp=sharing\">Click Here (UB Account)</a>"
   ]
  },
  {
   "cell_type": "markdown",
   "metadata": {},
   "source": [
    "## Dependencies"
   ]
  },
  {
   "cell_type": "code",
   "execution_count": 17,
   "metadata": {},
   "outputs": [],
   "source": [
    "import numpy as np\n",
    "import pandas as pd\n",
    "import random\n",
    "import matplotlib.pyplot as plt"
   ]
  },
  {
   "cell_type": "markdown",
   "metadata": {},
   "source": [
    "## Class: Node\n",
    "Node mereperesentasikan sebuah desa, memiliki atribut seperti:\n",
    "- (str) name \n",
    "- (int[]) coordinate\n",
    "- (int) population\n",
    "- (object[]) neighbors"
   ]
  },
  {
   "cell_type": "code",
   "execution_count": 18,
   "metadata": {},
   "outputs": [],
   "source": [
    "class Node:\n",
    "    \n",
    "    # initialization function\n",
    "    def __init__(self, name, coordinate_x, coordinate_y, population):\n",
    "        self.name = name\n",
    "        self.coordinate = np.array([coordinate_x, coordinate_y])\n",
    "        self.population = population\n",
    "        self.neighbors = []\n",
    "    \n",
    "    # Establishes bi-directional path\n",
    "    def add_neighbor(self, neighbor):\n",
    "        # The if-condition below guarantees no recursive connections\n",
    "        # i.e. a node can't be neighbors with itself\n",
    "        if self.name != neighbor.name:\n",
    "            sld = np.sqrt(np.power(neighbor.coordinate[0] - self.coordinate[0], 2) + np.power(neighbor.coordinate[1] - self.coordinate[1] ,2))\n",
    "            cost = random.choice([i for i in range(100)])\n",
    "            self.neighbors.append([neighbor, sld, cost])\n",
    "            neighbor.neighbors.append([self, sld, cost])\n",
    "    \n",
    "    # Get neighbors\n",
    "    def get_neighbor(self):\n",
    "        its_neighbors = []\n",
    "        for i in range(len(self.neighbors)):\n",
    "            its_neighbors.append(self.neighbors[i][0].name)\n",
    "        return its_neighbors\n",
    "    \n",
    "    def get_cost(self):\n",
    "        its_costs = []\n",
    "        for i in range(len(self.neighbors)):\n",
    "            its_costs.append(self.neighbors[i][2])\n",
    "        return its_costs\n",
    "    \n",
    "    def get_sld(self):\n",
    "        its_slds = []\n",
    "        for i in range(len(self.neighbors)):\n",
    "            its_slds.append(self.neighbors[i][1])\n",
    "        return its_slds\n",
    "\n",
    "    # Print node information\n",
    "    def print_info(self):\n",
    "        print(f\"Name: {self.name}\")\n",
    "        print(f\"Coordinate [X, Y]: {self.coordinate}\")\n",
    "        print(f\"Population: {self.population}\")\n",
    "        print(f\"Neighbors: {self.get_neighbor()}\")\n",
    "        print(f\"Cost: {self.get_cost()}\")\n",
    "        print(f\"SLD: {self.get_sld()}\")\n",
    "\n",
    "    # Quick debug purposes\n",
    "    def minimal_print(self):\n",
    "        print(f\"ID: {self.name} \\t -> {self.get_neighbor()}\")"
   ]
  },
  {
   "cell_type": "markdown",
   "metadata": {},
   "source": [
    "## Class: Environment"
   ]
  },
  {
   "cell_type": "code",
   "execution_count": 19,
   "metadata": {},
   "outputs": [],
   "source": [
    "class Environment:\n",
    "    \n",
    "    # Initialization function\n",
    "    def __init__(self, name, area_size, node_number):\n",
    "        self.name = name\n",
    "        self.node_number = node_number\n",
    "        self.empty_node_avail = node_number # kind of redundant (read more below)\n",
    "        self.area_size = area_size\n",
    "        self.area = [[None for _ in range(area_size)] for _ in range(area_size)]\n",
    "\n",
    "        self.node_list = [] # Used to store generated nodes\n",
    "        # Note: making an array filled with None and then *appending* instead of *updating*\n",
    "        # the values doesn't make any sense because you'd have Nones in front of everything else\n",
    "        \n",
    "        self.node_score = [None for _ in range(node_number)] # Used to store f(n) values for generated nodes\n",
    "\n",
    "    # Add node\n",
    "    def add_node(self, node):\n",
    "        self.area[node.coordinate[0]][node.coordinate[1]] = node\n",
    "        self.node_list.append(node)\n",
    "        self.empty_node_avail -= 1 # you have a while loop using \"remaining\" as a decreasing variable, I don't think this is useful\n",
    "    \n",
    "    # Generate test case environment\n",
    "    def test_case(self):\n",
    "        O_node = Node(\"O\", 0, 0, 0)\n",
    "        A_node = Node(\"A\", -3, 3, 300)\n",
    "        B_node = Node(\"B\", 1, 6, 100)\n",
    "        C_node = Node(\"C\", 5, 5, 150)\n",
    "        D_node = Node(\"D\", 2, 3, 400)\n",
    "        E_node = Node(\"E\", 5, 3, 250)\n",
    "        F_node = Node(\"F\", 4, 0, 75)\n",
    "        self.add_node(O_node)\n",
    "        self.add_node(A_node)\n",
    "        self.add_node(B_node)\n",
    "        self.add_node(C_node)\n",
    "        self.add_node(D_node)\n",
    "        self.add_node(E_node)\n",
    "        self.add_node(F_node)\n",
    "        O_node.add_neighbor(D_node)\n",
    "        O_node.add_neighbor(F_node)\n",
    "        A_node.add_neighbor(B_node)\n",
    "        A_node.add_neighbor(D_node)\n",
    "        B_node.add_neighbor(A_node)\n",
    "        B_node.add_neighbor(D_node)\n",
    "        B_node.add_neighbor(C_node)\n",
    "        C_node.add_neighbor(B_node)\n",
    "        C_node.add_neighbor(E_node)\n",
    "        D_node.add_neighbor(E_node)\n",
    "        D_node.add_neighbor(F_node)\n",
    "        self.node_number = 7\n",
    "\n",
    "    # Populate area \n",
    "    def populate_area(self):\n",
    "        # Makes sure the origin node is registered in node_list and area after creation\n",
    "        new_node = Node(\"origin\", 0, 0, 0)\n",
    "        self.add_node(new_node)\n",
    "\n",
    "        remaining = self.node_number\n",
    "        naming_counter = 0\n",
    "\n",
    "        # Generate randomly-placed nodes\n",
    "        while(remaining > 0):\n",
    "\n",
    "            # Randomize index\n",
    "            x_loc = np.random.randint(1, self.area_size)\n",
    "            y_loc = np.random.randint(1, self.area_size)\n",
    "\n",
    "            # If index empty, initialize node\n",
    "            if (self.area[x_loc][y_loc] is None):\n",
    "                # Creates data for new_node\n",
    "                node_name = str(self.name) + \"node\" + str(naming_counter) \n",
    "                naming_counter += 1\n",
    "                node_population = np.random.randint(50, 1000)\n",
    "\n",
    "                # Creates the new_node\n",
    "                new_node = Node(node_name, x_loc, y_loc, node_population)\n",
    "\n",
    "                # Adds the node using a function *you* have created before\n",
    "                self.add_node(new_node)\n",
    "\n",
    "                remaining -= 1\n",
    "\n",
    "        # Generate randomly-put edges (neighbors) between nodes\n",
    "        # Constraint: \n",
    "        #   1. Guaranteed edge from \"origin\" to at least one node\n",
    "        #   2. Every node is reachable\n",
    "\n",
    "        # choice is a list containing all possible integers from 0 to self.node_number\n",
    "        choice = [i for i in range(self.node_number)]\n",
    "\n",
    "        for i in range(len(self.node_list)-1):\n",
    "            # Makes sure there is a path from origin to the last node where\n",
    "            # it visits every other nodes on the way (satisfies all constraints)\n",
    "            self.node_list[i].add_neighbor(self.node_list[i+1])\n",
    "\n",
    "            # Connects one node with random neighbors if it passes a certain\n",
    "            # threshold (chance > k)\n",
    "            chance = np.random.random()\n",
    "            if chance > 0.69: # change this if you want\n",
    "                self.node_list[i].add_neighbor(self.node_list[random.choice(choice)])"
   ]
  },
  {
   "cell_type": "markdown",
   "metadata": {},
   "source": [
    "### Environment Use Case"
   ]
  },
  {
   "cell_type": "code",
   "execution_count": 20,
   "metadata": {},
   "outputs": [
    {
     "name": "stdout",
     "output_type": "stream",
     "text": [
      "ID: O \t -> ['D', 'F']\n",
      "ID: A \t -> ['B', 'D', 'B']\n",
      "ID: B \t -> ['A', 'A', 'D', 'C', 'C']\n",
      "ID: C \t -> ['B', 'B', 'E']\n",
      "ID: D \t -> ['O', 'A', 'B', 'E', 'F']\n",
      "ID: E \t -> ['C', 'D']\n",
      "ID: F \t -> ['O', 'D']\n"
     ]
    }
   ],
   "source": [
    "env = Environment(\"test\", 16, 16)\n",
    "env.test_case()\n",
    "for i in range(env.node_number):\n",
    "    env.node_list[i].minimal_print()"
   ]
  },
  {
   "cell_type": "markdown",
   "metadata": {},
   "source": [
    "## Environment Evaluation\n",
    "\n",
    "A* Search, expand minimum $f(n) = g(n) + h(n)$ node first.\n",
    "\n",
    "$$ g(n) = cost(root, n) + \\frac{\\sum _{i = 0}^n cost(i, n)}{n-1} $$\n",
    "\n",
    "$$ h(n) = \\frac{\\sum _{i=0}^n h_{SLD}(i)}{n-1} + \\frac{\\sum _{i = 0}^{n-1}\\text{population}(h) * d_{SLD}(i, k)}{\\sum _{i=0}^n \\text{population}(h)} $$\n",
    "\n",
    "$$ f(n) = cost(root, n) + \\frac{\\sum _{i = 0}^n cost(i, n)}{n-1} + \\frac{\\sum _{i=0}^n h_{SLD}(i)}{n-1} + \\frac{\\sum _{i = 0}^{n-1}\\text{population}(h) * d_{SLD}(i, k)}{\\sum _{i=0}^n \\text{population}(h)} $$"
   ]
  },
  {
   "cell_type": "code",
   "execution_count": null,
   "metadata": {},
   "outputs": [],
   "source": []
  }
 ],
 "metadata": {
  "kernelspec": {
   "display_name": "myenv",
   "language": "python",
   "name": "python3"
  },
  "language_info": {
   "codemirror_mode": {
    "name": "ipython",
    "version": 3
   },
   "file_extension": ".py",
   "mimetype": "text/x-python",
   "name": "python",
   "nbconvert_exporter": "python",
   "pygments_lexer": "ipython3",
   "version": "3.11.0"
  }
 },
 "nbformat": 4,
 "nbformat_minor": 2
}
