{
 "cells": [
  {
   "cell_type": "markdown",
   "metadata": {},
   "source": [
    "# AI2023_C6_Project: Distribusi Strategis Tangki Air\n",
    "Ketua: \n",
    "- Hugo Alfedo Putra (225150201111013)\n",
    "\n",
    "Anggota:\n",
    "- Farrel Rakha Dzakwan (NIM)\n",
    "- Kartika Madania (NIM)\n",
    "- Nafakhatul Fadhliyah (NIM)\n",
    "- Rayhan Egar Sadtya N. (225150201111014)"
   ]
  },
  {
   "cell_type": "markdown",
   "metadata": {},
   "source": [
    "## Project Description"
   ]
  },
  {
   "cell_type": "markdown",
   "metadata": {},
   "source": [
    "- Detailed proposal: <a href=\"https://drive.google.com/file/d/17-KTcC_7lHK3ccReEwo3SYMl73sKyIs8/view?usp=sharing\">Click Here (UB Account)</a>\n",
    "- Case example: <a href=\"https://drive.google.com/file/d/1cw2pzo-zphH3vdL3rC1ZDHoAic22058L/view?usp=sharing\">Click Here (UB Account)</a>"
   ]
  },
  {
   "cell_type": "markdown",
   "metadata": {},
   "source": [
    "## Dependencies"
   ]
  },
  {
   "cell_type": "code",
   "execution_count": 1,
   "metadata": {},
   "outputs": [],
   "source": [
    "import numpy as np\n",
    "import pandas as pd\n",
    "import random\n",
    "import matplotlib.pyplot as plt\n",
    "import heapq\n",
    "import networkx as nx"
   ]
  },
  {
   "cell_type": "markdown",
   "metadata": {},
   "source": [
    "## Class: Node\n",
    "Node mereperesentasikan sebuah desa, memiliki atribut seperti:\n",
    "- (str) name \n",
    "- (int[]) coordinate\n",
    "- (int) population\n",
    "- (object[]) neighbors"
   ]
  },
  {
   "cell_type": "code",
   "execution_count": 2,
   "metadata": {},
   "outputs": [],
   "source": [
    "class Node:\n",
    "    \n",
    "    # initialization function\n",
    "    def __init__(self, name, coordinate_x, coordinate_y, population):\n",
    "        self.name = name\n",
    "        self.coordinate = np.array([coordinate_x, coordinate_y])\n",
    "        self.population = population\n",
    "        self.neighbors = []\n",
    "        self.c_range = 100 # default value\n",
    "    \n",
    "    # This is to take care when comparing (k_1, Node_1) < (k_2, Node_2) where k_1 = k_2. \n",
    "    # Such case where k_1 = k_2 would trigger heapq to compare the Node object. Comparing \n",
    "    # such object would raise an error because we did not and we can not put a comparator \n",
    "    # in the Node class. Therefore, this function below is to say that if such case happens, \n",
    "    # *always* prioritise the more populous node.\n",
    "    def __lt__(self, other):\n",
    "        return self.population < other.population\n",
    "\n",
    "    # Coordinates are more unique than names\n",
    "    def __hash__(self):\n",
    "        return hash(self.coordinate[0])\n",
    "\n",
    "    def get_choice_range(self):\n",
    "        return self.c_range\n",
    "\n",
    "    # Establishes bi-directional path\n",
    "    def add_neighbor(self, neighbor):\n",
    "        # The if-condition below guarantees no recursive connections\n",
    "        # i.e. a node can't be neighbors with itself\n",
    "        if self.coordinate[0] != neighbor.coordinate[0]:\n",
    "            sld = np.sqrt(np.power(neighbor.coordinate[0] - self.coordinate[0], 2) + np.power(neighbor.coordinate[1] - self.coordinate[1] ,2))\n",
    "            cost = random.choice([i for i in range(self.get_choice_range())])\n",
    "            self.neighbors.append([neighbor, sld, cost])\n",
    "            neighbor.neighbors.append([self, sld, cost])\n",
    "    \n",
    "    # Get neighbors\n",
    "    def get_neighbor(self):\n",
    "        its_neighbors = []\n",
    "        for i in range(len(self.neighbors)):\n",
    "            its_neighbors.append(self.neighbors[i][0].name)\n",
    "        return its_neighbors\n",
    "    \n",
    "    def get_cost(self):\n",
    "        its_costs = []\n",
    "        for i in range(len(self.neighbors)):\n",
    "            its_costs.append(self.neighbors[i][2])\n",
    "        return its_costs\n",
    "    \n",
    "    def get_sld(self):\n",
    "        its_slds = []\n",
    "        for i in range(len(self.neighbors)):\n",
    "            its_slds.append(self.neighbors[i][1])\n",
    "        return its_slds\n",
    "\n",
    "    # Print node information\n",
    "    def print_info(self):\n",
    "        print(f\"Name: {self.name}\")\n",
    "        print(f\"Coordinate [X, Y]: {self.coordinate}\")\n",
    "        print(f\"Population: {self.population}\")\n",
    "        print(f\"Neighbors: {self.get_neighbor()}\")\n",
    "        print(f\"Cost: {self.get_cost()}\")\n",
    "        print(f\"SLD: {self.get_sld()}\")\n",
    "\n",
    "    # Quick debug purposes\n",
    "    def minimal_print(self):\n",
    "        print(f\"ID: {self.name} \\t -> {self.get_neighbor()}\")"
   ]
  },
  {
   "cell_type": "markdown",
   "metadata": {},
   "source": [
    "## Class: Environment"
   ]
  },
  {
   "cell_type": "code",
   "execution_count": 3,
   "metadata": {},
   "outputs": [],
   "source": [
    "class Environment:\n",
    "    \n",
    "    # Initialization function\n",
    "    def __init__(self, *args):\n",
    "\n",
    "        # Random generation needs name, area_size, node_number\n",
    "        if len(args) > 1 and isinstance(args[0], str):\n",
    "            self.name = args[0]\n",
    "            self.node_number = args[2]\n",
    "            self.empty_node_avail = args[2] # kind of redundant (read more below)\n",
    "            self.area_size = args[1]\n",
    "            self.area = [[None for _ in range(args[1])] for _ in range(args[1])]\n",
    "\n",
    "            self.node_list = [] # Used to store generated nodes\n",
    "            # Note: making an array filled with None and then *appending* instead of *updating*\n",
    "            # the values doesn't make any sense because you'd have Nones in front of everything else\n",
    "            \n",
    "            self.node_score = [None for _ in range(args[2])] # Used to store f(n) values for generated nodes\n",
    "\n",
    "        # Nodes generated from data will only need Node\n",
    "        if len(args) == 1 and isinstance(args[0], list):\n",
    "            self.nodes = args[0]\n",
    "            self.node_number = len(args[0])\n",
    "            self.node_list = [] \n",
    "            self.node_score = [None for _ in range(len(args[0]))]\n",
    "    \n",
    "    # Add node\n",
    "    def add_node(self, node):\n",
    "        self.area[node.coordinate[0]][node.coordinate[1]] = node\n",
    "        self.node_list.append(node)\n",
    "        self.empty_node_avail -= 1 # you have a while loop using \"remaining\" as a decreasing variable, I don't think this is useful\n",
    "    \n",
    "    def add_node_from_data(self, node):\n",
    "        self.node_list.append(node)\n",
    "\n",
    "    # Generate test case environment\n",
    "    def test_case(self):\n",
    "        O_node = Node(\"O\", 0, 0, 0)\n",
    "        A_node = Node(\"A\", -3, 3, 300)\n",
    "        B_node = Node(\"B\", 1, 6, 100)\n",
    "        C_node = Node(\"C\", 5, 5, 150)\n",
    "        D_node = Node(\"D\", 2, 3, 400)\n",
    "        E_node = Node(\"E\", 5, 3, 250)\n",
    "        F_node = Node(\"F\", 4, 0, 75)\n",
    "        self.add_node(O_node)\n",
    "        self.add_node(A_node)\n",
    "        self.add_node(B_node)\n",
    "        self.add_node(C_node)\n",
    "        self.add_node(D_node)\n",
    "        self.add_node(E_node)\n",
    "        self.add_node(F_node)\n",
    "        O_node.add_neighbor(D_node)\n",
    "        O_node.add_neighbor(F_node)\n",
    "        A_node.add_neighbor(B_node)\n",
    "        A_node.add_neighbor(D_node)\n",
    "        B_node.add_neighbor(A_node)\n",
    "        B_node.add_neighbor(D_node)\n",
    "        B_node.add_neighbor(C_node)\n",
    "        C_node.add_neighbor(B_node)\n",
    "        C_node.add_neighbor(E_node)\n",
    "        D_node.add_neighbor(E_node)\n",
    "        D_node.add_neighbor(F_node)\n",
    "        self.node_number = 7\n",
    "\n",
    "    # Populate area \n",
    "    def populate_area(self):\n",
    "        # Makes sure the origin node is registered in node_list and area after creation\n",
    "        new_node = Node(\"origin\", 0, 0, 0)\n",
    "        self.add_node(new_node)\n",
    "\n",
    "        remaining = self.node_number\n",
    "        naming_counter = 0\n",
    "\n",
    "        # Generate randomly-placed nodes\n",
    "        while(remaining > 0):\n",
    "\n",
    "            # Randomize index\n",
    "            x_loc = np.random.randint(1, self.area_size)\n",
    "            y_loc = np.random.randint(1, self.area_size)\n",
    "\n",
    "            # If index empty, initialize node\n",
    "            if (self.area[x_loc][y_loc] is None):\n",
    "                # Creates data for new_node\n",
    "                node_name = str(self.name) + \"node\" + str(naming_counter) \n",
    "                naming_counter += 1\n",
    "                node_population = np.random.randint(50, 1000)\n",
    "\n",
    "                # Creates the new_node\n",
    "                new_node = Node(node_name, x_loc, y_loc, node_population)\n",
    "\n",
    "                # Adds the node using a function *you* have created before\n",
    "                self.add_node(new_node)\n",
    "\n",
    "                remaining -= 1\n",
    "\n",
    "        # Generate randomly-put edges (neighbors) between nodes\n",
    "        # Constraint: \n",
    "        #   1. Guaranteed edge from \"origin\" to at least one node\n",
    "        #   2. Every node is reachable\n",
    "\n",
    "        # choice is a list containing all possible integers from 0 to self.node_number\n",
    "        choice = [i for i in range(self.node_number)]\n",
    "\n",
    "        for i in range(len(self.node_list)-1):\n",
    "            # Makes sure there is a path from origin to the last node where\n",
    "            # it visits every other nodes on the way (satisfies all constraints)\n",
    "            self.node_list[i].add_neighbor(self.node_list[i+1])\n",
    "\n",
    "            # Connects one node with random neighbors if it passes a certain\n",
    "            # threshold (chance > k)\n",
    "            chance = np.random.random()\n",
    "            if chance > 0.69: # change this if you want\n",
    "                self.node_list[i].add_neighbor(self.node_list[random.choice(choice)])\n",
    "\n",
    "    def populate_from_data(self):\n",
    "        G = nx.Graph() # this uses netowrkx\n",
    "\n",
    "        # Pick a place with the heighest population count as the origin\n",
    "        max_pop = 0; idx = 0\n",
    "        for i in range(len(self.nodes)):\n",
    "            # Finds the place with the highest population count and gets its index\n",
    "            if self.nodes[i].population > max_pop:\n",
    "                max_pop = self.nodes[i].population\n",
    "                idx = i\n",
    "        # Commits it\n",
    "        self.add_node_from_data(self.nodes[idx])\n",
    "        self.nodes[idx].population = 0 # origin node is already served by default\n",
    "        G.add_node(self.nodes[idx].name)\n",
    "\n",
    "        # Add the rest of the nodes\n",
    "        for i in range(len(self.nodes)):\n",
    "            if i != idx:\n",
    "                self.add_node_from_data(self.nodes[i])\n",
    "                G.add_node(self.nodes[i].name)\n",
    "            else: continue\n",
    "\n",
    "        # Add random neighbors to each other \n",
    "        # Generate randomly-put edges (neighbors) between nodes\n",
    "        # Constraint: \n",
    "        #   1. Guaranteed edge from \"origin\" to at least one node\n",
    "        #   2. Every node is reachable\n",
    "\n",
    "        # choice is a list containing all possible integers from 0 to self.node_number\n",
    "        choice = [i for i in range(len(self.nodes))]\n",
    "\n",
    "        for i in range(len(self.nodes)-1):\n",
    "            # Makes sure there is a path from origin to the last node where\n",
    "            # it visits every other nodes on the way (satisfies all constraints)\n",
    "            self.nodes[i].add_neighbor(self.nodes[i+1])\n",
    "            G.add_edge(self.nodes[i].name, self.nodes[i+1].name)\n",
    "\n",
    "            # Connects one node with random neighbors if it passes a certain\n",
    "            # threshold (chance > k)\n",
    "            chance = np.random.random()\n",
    "            if chance > 0.69: # change this if you want\n",
    "                neighbor = self.nodes[random.choice(choice)]\n",
    "                self.nodes[i].add_neighbor(neighbor)\n",
    "                G.add_edge(self.nodes[i].name, neighbor.name)\n",
    "        \n",
    "        # Visualize the graph\n",
    "        pos = nx.spring_layout(G)  # you can change the layout algorithm as needed\n",
    "        labels = {i: i for i in G.nodes}\n",
    "        nx.draw(G, pos, with_labels=True, labels=labels, node_size=700, font_size=8, font_color='black', node_color=[(0.831,0.831,0.831,1)])\n",
    "        plt.show()"
   ]
  },
  {
   "cell_type": "markdown",
   "metadata": {},
   "source": [
    "### Environment Test Case"
   ]
  },
  {
   "cell_type": "code",
   "execution_count": 4,
   "metadata": {},
   "outputs": [
    {
     "name": "stdout",
     "output_type": "stream",
     "text": [
      "ID: O \t -> ['D', 'F']\n",
      "ID: A \t -> ['B', 'D', 'B']\n",
      "ID: B \t -> ['A', 'A', 'D', 'C', 'C']\n",
      "ID: C \t -> ['B', 'B']\n",
      "ID: D \t -> ['O', 'A', 'B', 'E', 'F']\n",
      "ID: E \t -> ['D']\n",
      "ID: F \t -> ['O', 'D']\n"
     ]
    }
   ],
   "source": [
    "env = Environment(\"test\", 16, 16)\n",
    "env.test_case()\n",
    "for i in range(env.node_number):\n",
    "    env.node_list[i].minimal_print()"
   ]
  },
  {
   "cell_type": "markdown",
   "metadata": {},
   "source": [
    "### Referensi Geolokasi Database\n",
    "\n",
    "Teks di bawah ini sekadar mencontohkan cara kerja kelompok kami:\n",
    "\n",
    "Didapatkan sebuah batasan berupa koordinat-koordinat dari website https://boundingbox.klokantech.com sebagai berikut:\n",
    "- batasan Barat: `112.471417`\n",
    "- batasan Selatan: `-8.048836`\n",
    "- batasan Timur: `112.745595`\n",
    "- batasan Utara: `-7.80712`\n",
    "\n",
    "dengan visualisasi:\n",
    "<br>\n",
    "<img src=\"https://raw.githubusercontent.com/rayhanegar/AI2023_C6/main/visualisasi_1.png\" width=\"800\">\n",
    "\n",
    "dan juga database `ref_db.csv` yang akan digunakan untuk menentukan desa-desa mana saja yang berada di dalam batasan-batasan tersebut.\n"
   ]
  },
  {
   "cell_type": "markdown",
   "metadata": {},
   "source": [
    "## Tahapan Kerja"
   ]
  },
  {
   "cell_type": "markdown",
   "metadata": {},
   "source": [
    "1. Deklarasi batasan"
   ]
  },
  {
   "cell_type": "code",
   "execution_count": 5,
   "metadata": {},
   "outputs": [],
   "source": [
    "batasan = [102.197763,-1.929685,102.395665,-1.791279]\n",
    "# dengan urutan barat, selatan, timur, utara"
   ]
  },
  {
   "cell_type": "markdown",
   "metadata": {},
   "source": [
    "2. Mengambil data dari .csv untuk melakukan referensi geolokasi"
   ]
  },
  {
   "cell_type": "code",
   "execution_count": 6,
   "metadata": {},
   "outputs": [
    {
     "data": {
      "text/html": [
       "<div>\n",
       "<style scoped>\n",
       "    .dataframe tbody tr th:only-of-type {\n",
       "        vertical-align: middle;\n",
       "    }\n",
       "\n",
       "    .dataframe tbody tr th {\n",
       "        vertical-align: top;\n",
       "    }\n",
       "\n",
       "    .dataframe thead th {\n",
       "        text-align: right;\n",
       "    }\n",
       "</style>\n",
       "<table border=\"1\" class=\"dataframe\">\n",
       "  <thead>\n",
       "    <tr style=\"text-align: right;\">\n",
       "      <th></th>\n",
       "      <th>name</th>\n",
       "      <th>lat</th>\n",
       "      <th>lng</th>\n",
       "      <th>pop</th>\n",
       "    </tr>\n",
       "  </thead>\n",
       "  <tbody>\n",
       "    <tr>\n",
       "      <th>0</th>\n",
       "      <td>LATIUNG</td>\n",
       "      <td>2.357417</td>\n",
       "      <td>96.452420</td>\n",
       "      <td>779</td>\n",
       "    </tr>\n",
       "    <tr>\n",
       "      <th>1</th>\n",
       "      <td>LABUHAN BAJAU</td>\n",
       "      <td>2.391348</td>\n",
       "      <td>96.479117</td>\n",
       "      <td>88</td>\n",
       "    </tr>\n",
       "    <tr>\n",
       "      <th>2</th>\n",
       "      <td>SUAK LAMATAN</td>\n",
       "      <td>2.353943</td>\n",
       "      <td>96.364809</td>\n",
       "      <td>2205</td>\n",
       "    </tr>\n",
       "    <tr>\n",
       "      <th>3</th>\n",
       "      <td>ANA AO</td>\n",
       "      <td>2.439100</td>\n",
       "      <td>96.450882</td>\n",
       "      <td>1890</td>\n",
       "    </tr>\n",
       "    <tr>\n",
       "      <th>4</th>\n",
       "      <td>LATALING</td>\n",
       "      <td>2.458705</td>\n",
       "      <td>96.455400</td>\n",
       "      <td>1577</td>\n",
       "    </tr>\n",
       "  </tbody>\n",
       "</table>\n",
       "</div>"
      ],
      "text/plain": [
       "            name       lat        lng   pop\n",
       "0        LATIUNG  2.357417  96.452420   779\n",
       "1  LABUHAN BAJAU  2.391348  96.479117    88\n",
       "2   SUAK LAMATAN  2.353943  96.364809  2205\n",
       "3         ANA AO  2.439100  96.450882  1890\n",
       "4       LATALING  2.458705  96.455400  1577"
      ]
     },
     "execution_count": 6,
     "metadata": {},
     "output_type": "execute_result"
    }
   ],
   "source": [
    "url = \"https://raw.githubusercontent.com/rayhanegar/AI2023_C6/main/ref_db.csv\"\n",
    "ref_db = pd.read_csv(url)\n",
    "ref_db.head()"
   ]
  },
  {
   "cell_type": "markdown",
   "metadata": {},
   "source": [
    "3. Membuat fungsi untuk mencari batasan desa"
   ]
  },
  {
   "cell_type": "code",
   "execution_count": 7,
   "metadata": {},
   "outputs": [],
   "source": [
    "def cari_desa(batasan):\n",
    "    kumpulan_desa = []\n",
    "    for i in range(len(ref_db)):\n",
    "        if ref_db['lat'][i] >= batasan[1] and ref_db['lat'][i] <= batasan[3] and ref_db['lng'][i] >= batasan[0] and ref_db['lng'][i] <= batasan[2] and ref_db['lat'][i] != 0 and ref_db['lng'][i] != 0:\n",
    "            new_node = Node(ref_db['name'][i],ref_db['lat'][i],ref_db['lng'][i],ref_db['pop'][i])\n",
    "            kumpulan_desa.append(new_node)\n",
    "        else: continue\n",
    "    return kumpulan_desa"
   ]
  },
  {
   "cell_type": "markdown",
   "metadata": {},
   "source": [
    "4. Melakukan generasi environment"
   ]
  },
  {
   "cell_type": "code",
   "execution_count": 8,
   "metadata": {},
   "outputs": [
    {
     "data": {
      "image/png": "[encoded data removed]",
      "text/plain": [
       "<Figure size 640x480 with 1 Axes>"
      ]
     },
     "metadata": {},
     "output_type": "display_data"
    }
   ],
   "source": [
    "env_on_data = Environment(cari_desa(batasan))\n",
    "env_on_data.populate_from_data()\n",
    "# NEVER print on cells where you declare or instantiate a class; it will double up"
   ]
  },
  {
   "cell_type": "code",
   "execution_count": 9,
   "metadata": {},
   "outputs": [
    {
     "name": "stdout",
     "output_type": "stream",
     "text": [
      "ID: SUMBER AGUNG \t -> ['SIDO HARJO', 'SUKO REJO', 'KANDANG']\n",
      "ID: KANDANG \t -> ['BELURAN PANJANG', 'SIDO HARJO', 'SUMBER AGUNG']\n",
      "ID: BELURAN PANJANG \t -> ['KANDANG', 'KAPUK', 'KOTO BARU']\n",
      "ID: KAPUK \t -> ['BELURAN PANJANG', 'MEDAN BARU']\n",
      "ID: MEDAN BARU \t -> ['KAPUK', 'KOTO BARU']\n",
      "ID: KOTO BARU \t -> ['BELURAN PANJANG', 'MEDAN BARU', 'SIDO LEGO']\n",
      "ID: SIDO LEGO \t -> ['KOTO BARU', 'MENSANGO', 'MENSANGO']\n",
      "ID: MENSANGO \t -> ['SIDO LEGO', 'SIDO HARJO', 'SIDO LEGO']\n",
      "ID: SIDO HARJO \t -> ['MENSANGO', 'SUMBER AGUNG', 'KANDANG']\n",
      "ID: SUKO REJO \t -> ['SUMBER AGUNG', 'SIDO RUKUN']\n",
      "ID: SIDO RUKUN \t -> ['SUKO REJO', 'TEGAL REJO']\n",
      "ID: TEGAL REJO \t -> ['SIDO RUKUN']\n",
      "Node origin:\n",
      "ID: SUMBER AGUNG \t -> ['SIDO HARJO', 'SUKO REJO', 'KANDANG']\n"
     ]
    }
   ],
   "source": [
    "for i in range(env_on_data.node_number):\n",
    "    env_on_data.node_list[i].minimal_print()\n",
    "print(\"Node origin:\")\n",
    "env_on_data.node_list[0].minimal_print()"
   ]
  },
  {
   "cell_type": "markdown",
   "metadata": {},
   "source": [
    "## Environment Evaluation\n",
    "\n",
    "A* Search, expand minimum $f(n) = g(n) + h(n)$ node first.\n",
    "\n",
    "$$ g(n) = \\frac{cost(root, n)}{n} + \\frac{\\sum _{i = 0}^n cost(i, n)}{n-1} $$\n",
    "\n",
    "$$ h(n) = \\frac{\\sum _{i=0}^{n-1} h_{SLD}(i)}{n-1} + \\frac{\\sum _{i = 0}^{n-1}\\text{population}(h) * d_{SLD}(i, k)}{\\text{population}(n)} $$"
   ]
  },
  {
   "cell_type": "markdown",
   "metadata": {},
   "source": [
    "### Fungsi $g(n)$"
   ]
  },
  {
   "cell_type": "code",
   "execution_count": 10,
   "metadata": {},
   "outputs": [],
   "source": [
    "def find_index(array, target_node):\n",
    "    try:\n",
    "        index = array.index(target_node)\n",
    "        return index\n",
    "    except ValueError:\n",
    "        return None\n",
    "\n",
    "def find_cost(graph, start_node):\n",
    "    distances = {node: float('infinity') for node in graph}\n",
    "    distances[start_node] = 0\n",
    "    previous_nodes = {node: None for node in graph}\n",
    "\n",
    "    priority_queue = [(0, start_node)]\n",
    "\n",
    "    while priority_queue:\n",
    "        current_distance, current_node = heapq.heappop(priority_queue)\n",
    "\n",
    "        if current_distance > distances[current_node]:\n",
    "            continue\n",
    "\n",
    "        for properties in graph[find_index(graph, current_node)].neighbors:\n",
    "            # neighbor = properties[0]\n",
    "            # weight = properties[2]\n",
    "            distance = current_distance + properties[2]\n",
    "            if distance < distances[properties[0]]:\n",
    "                distances[properties[0]] = distance\n",
    "                previous_nodes[properties[0]] = current_node\n",
    "                heapq.heappush(priority_queue, (distance, properties[0]))\n",
    "\n",
    "    return [distances, previous_nodes]\n",
    "\n",
    "def gn(environment):\n",
    "    iter = environment.node_number\n",
    "    graph = environment.node_list\n",
    "    origin = graph[0] # Node at index 0 is always the origin node\n",
    "    gn_values = []\n",
    "\n",
    "    # Discovers the graph from the origin\n",
    "    o_dist, o_prev = find_cost(graph, origin)\n",
    "\n",
    "    min = float('inf'); idx = 0\n",
    "    for i in range(1, iter): # We don't need to do calculations on the origin node\n",
    "        # Define current node\n",
    "        current_node = graph[i]\n",
    "\n",
    "        # Find the first term\n",
    "        term_1 = o_dist[current_node]\n",
    "        term_1 /= iter\n",
    "\n",
    "        # Find the second term\n",
    "        term_2 = 0\n",
    "        dist, prev = find_cost(graph, current_node)\n",
    "        for j in range(1, iter):\n",
    "            if i != j and dist[graph[j]] < float('inf'): term_2 += dist[graph[j]]\n",
    "            else: continue \n",
    "        term_2 /= (iter - 1)\n",
    "        \n",
    "        # Add them together\n",
    "        gn_term = term_1 + term_2\n",
    "        gn_values.append(gn_term)\n",
    "\n",
    "        # Find minimum\n",
    "        if gn_term < min:\n",
    "            min = gn_term\n",
    "            idx = i\n",
    "\n",
    "    return gn_values"
   ]
  },
  {
   "cell_type": "markdown",
   "metadata": {},
   "source": [
    "### Fungsi $h(n)$"
   ]
  },
  {
   "cell_type": "code",
   "execution_count": 11,
   "metadata": {},
   "outputs": [],
   "source": [
    "def hn(environment):\n",
    "    iter = environment.node_number\n",
    "    graph = environment.node_list\n",
    "    origin = graph[0] # Node at index 0 is always the origin node\n",
    "    hn_values = []\n",
    "\n",
    "    # Find the total population\n",
    "    pop_sum = []\n",
    "    for i in range(0, iter):\n",
    "        pop_sum.append(graph[i].population)\n",
    "    \n",
    "    min = float('inf'); idx = 0\n",
    "    for i in range(1, iter):\n",
    "        term_1 = 0\n",
    "        term_2 = 0\n",
    "        for j in range(1, iter):\n",
    "            if i != j: \n",
    "                sld = np.sqrt((graph[j].coordinate[0] - graph[i].coordinate[0]) ** 2 + (graph[j].coordinate[1] - graph[i].coordinate[1]) ** 2)\n",
    "                # Calculating first term\n",
    "                term_1 += sld\n",
    "                # Calculating second term because second term needs the result from the first term\n",
    "                term_2 += graph[j].population * sld\n",
    "            else: continue\n",
    "        term_1 /= (iter - 1)\n",
    "        term_2 /= pop_sum[i]\n",
    "        \n",
    "        hn_term = term_1 + term_2\n",
    "        hn_values.append(hn_term)\n",
    "\n",
    "        # Find minimum\n",
    "        if hn_term < min:\n",
    "            min = hn_term\n",
    "            idx = i\n",
    "    \n",
    "    return hn_values"
   ]
  },
  {
   "cell_type": "markdown",
   "metadata": {},
   "source": [
    "### Mencari $f(n)$ minimum"
   ]
  },
  {
   "cell_type": "code",
   "execution_count": 12,
   "metadata": {},
   "outputs": [],
   "source": [
    "def fn(environment):\n",
    "    fn_values = []\n",
    "    gn_values = gn(environment)\n",
    "    hn_values = hn(environment)\n",
    "\n",
    "    fn_values.append(float('inf'))\n",
    "\n",
    "    min = float('inf'); idx = 0\n",
    "    for i in range(len(gn_values)):\n",
    "        fn = gn_values[i] + hn_values[i]\n",
    "        fn_values.append(fn)\n",
    "        if fn < min:\n",
    "            min = fn\n",
    "            idx = i\n",
    "\n",
    "    gn_values.insert(0,float('inf'))\n",
    "    hn_values.insert(0,float('inf'))\n",
    "    print(gn_values)\n",
    "    print(hn_values)\n",
    "\n",
    "    return [min, idx], fn_values"
   ]
  },
  {
   "cell_type": "markdown",
   "metadata": {},
   "source": [
    "### Eksekusi"
   ]
  },
  {
   "cell_type": "code",
   "execution_count": 13,
   "metadata": {},
   "outputs": [
    {
     "name": "stdout",
     "output_type": "stream",
     "text": [
      "[inf, 92.84848484848486, 92.50757575757576, 140.72727272727275, 155.29545454545453, 102.51515151515152, 124.03030303030303, 137.04545454545456, 131.62121212121212, 116.28030303030303, 127.07575757575758, 186.57575757575756]\n",
      "[inf, 1.232401441670555, 18.66334764032816, 0.5075465602645894, 0.6721065781857911, 0.1467331495761176, 0.44306444458313954, 23.543511592586352, 1.0364046568843832, 1.9787548112357076, 16.853113453258896, 3.175348749389034]\n",
      "[inf, 94.08088629015542, 111.17092339790392, 141.23481928753733, 155.96756112364034, 102.66188466472764, 124.47336747488617, 160.58896613804092, 132.6576167780965, 118.25905784153873, 143.92887102901648, 189.7511063251466]\n",
      "Penempatan truk tangki air di SUMBER AGUNG paling efisien dengan nilai f(n) = 94.08088629015542\n"
     ]
    }
   ],
   "source": [
    "min, vals = fn(env_on_data)\n",
    "print(vals)\n",
    "print(f'Penempatan truk tangki air di {env_on_data.node_list[min[1]].name} paling efisien dengan nilai f(n) = {min[0]}')"
   ]
  }
 ],
 "metadata": {
  "kernelspec": {
   "display_name": "myenv",
   "language": "python",
   "name": "python3"
  },
  "language_info": {
   "codemirror_mode": {
    "name": "ipython",
    "version": 3
   },
   "file_extension": ".py",
   "mimetype": "text/x-python",
   "name": "python",
   "nbconvert_exporter": "python",
   "pygments_lexer": "ipython3",
   "version": "3.11.0"
  }
 },
 "nbformat": 4,
 "nbformat_minor": 2
}
